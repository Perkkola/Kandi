{
 "cells": [
  {
   "cell_type": "markdown",
   "metadata": {},
   "source": [
    "# Quantum search with two qubits\n",
    "\n",
    "In this problem we implement the Grover search algorithm on two qubits. That is, the search space has $N=4$ elements. You will need to give an algorithm for calculating the Grover operator. The Grover operator $G$ consists of two parts:  \n",
    "* Oracle, $O$\n",
    "* Phase shift, $2|0\\rangle \\langle 0| - I$\n",
    "\n",
    "Then the Grover operator is given by  \n",
    "$$\n",
    "G = H^{\\otimes 2} (2|0\\rangle \\langle 0|-I) H^{\\otimes 2} O \\ .\n",
    "$$"
   ]
  },
  {
   "cell_type": "markdown",
   "metadata": {},
   "source": [
    "You might need to install `pylatexenc`."
   ]
  },
  {
   "cell_type": "code",
   "execution_count": 1,
   "metadata": {
    "tags": []
   },
   "outputs": [
    {
     "name": "stdout",
     "output_type": "stream",
     "text": [
      "Requirement already satisfied: pylatexenc in c:\\users\\peksi\\appdata\\local\\programs\\python\\python310\\lib\\site-packages (2.10)\n",
      "Note: you may need to restart the kernel to use updated packages.\n"
     ]
    }
   ],
   "source": [
    "pip install pylatexenc"
   ]
  },
  {
   "cell_type": "code",
   "execution_count": 2,
   "metadata": {},
   "outputs": [
    {
     "ename": "ImportError",
     "evalue": "Qiskit is installed in an invalid environment that has both Qiskit >=1.0 and an earlier version. You should create a new virtual environment, and ensure that you do not mix dependencies between Qiskit <1.0 and >=1.0. Any packages that depend on 'qiskit-terra' are not compatible with Qiskit 1.0 and will need to be updated. Qiskit unfortunately cannot enforce this requirement during environment resolution. See https://qisk.it/packaging-1-0 for more detail.",
     "output_type": "error",
     "traceback": [
      "\u001b[1;31m---------------------------------------------------------------------------\u001b[0m",
      "\u001b[1;31mImportError\u001b[0m                               Traceback (most recent call last)",
      "Cell \u001b[1;32mIn[2], line 2\u001b[0m\n\u001b[0;32m      1\u001b[0m \u001b[38;5;28;01mimport\u001b[39;00m \u001b[38;5;21;01mnumpy\u001b[39;00m \u001b[38;5;28;01mas\u001b[39;00m \u001b[38;5;21;01mnp\u001b[39;00m\n\u001b[1;32m----> 2\u001b[0m \u001b[38;5;28;01mfrom\u001b[39;00m \u001b[38;5;21;01mqiskit\u001b[39;00m \u001b[38;5;28;01mimport\u001b[39;00m QuantumCircuit\n\u001b[0;32m      3\u001b[0m \u001b[38;5;28;01mfrom\u001b[39;00m \u001b[38;5;21;01mqiskit\u001b[39;00m\u001b[38;5;21;01m.\u001b[39;00m\u001b[38;5;21;01mquantum_info\u001b[39;00m \u001b[38;5;28;01mimport\u001b[39;00m Operator, Statevector\n\u001b[0;32m      4\u001b[0m \u001b[38;5;28;01mfrom\u001b[39;00m \u001b[38;5;21;01mqiskit\u001b[39;00m\u001b[38;5;21;01m.\u001b[39;00m\u001b[38;5;21;01mvisualization\u001b[39;00m \u001b[38;5;28;01mimport\u001b[39;00m plot_histogram\n",
      "File \u001b[1;32mc:\\Users\\peksi\\AppData\\Local\\Programs\\Python\\Python310\\lib\\site-packages\\qiskit\\__init__.py:36\u001b[0m\n\u001b[0;32m     34\u001b[0m     _suppress_error \u001b[38;5;241m=\u001b[39m os\u001b[38;5;241m.\u001b[39menviron\u001b[38;5;241m.\u001b[39mget(\u001b[38;5;124m\"\u001b[39m\u001b[38;5;124mQISKIT_SUPPRESS_1_0_IMPORT_ERROR\u001b[39m\u001b[38;5;124m\"\u001b[39m, \u001b[38;5;28;01mFalse\u001b[39;00m) \u001b[38;5;241m==\u001b[39m \u001b[38;5;124m\"\u001b[39m\u001b[38;5;124m1\u001b[39m\u001b[38;5;124m\"\u001b[39m\n\u001b[0;32m     35\u001b[0m     \u001b[38;5;28;01mif\u001b[39;00m \u001b[38;5;129;01mnot\u001b[39;00m _suppress_error \u001b[38;5;129;01mand\u001b[39;00m _has_tools:\n\u001b[1;32m---> 36\u001b[0m         \u001b[38;5;28;01mraise\u001b[39;00m \u001b[38;5;167;01mImportError\u001b[39;00m(\n\u001b[0;32m     37\u001b[0m             \u001b[38;5;124m\"\u001b[39m\u001b[38;5;124mQiskit is installed in an invalid environment that has both Qiskit >=1.0\u001b[39m\u001b[38;5;124m\"\u001b[39m\n\u001b[0;32m     38\u001b[0m             \u001b[38;5;124m\"\u001b[39m\u001b[38;5;124m and an earlier version.\u001b[39m\u001b[38;5;124m\"\u001b[39m\n\u001b[0;32m     39\u001b[0m             \u001b[38;5;124m\"\u001b[39m\u001b[38;5;124m You should create a new virtual environment, and ensure that you do not mix\u001b[39m\u001b[38;5;124m\"\u001b[39m\n\u001b[0;32m     40\u001b[0m             \u001b[38;5;124m\"\u001b[39m\u001b[38;5;124m dependencies between Qiskit <1.0 and >=1.0.\u001b[39m\u001b[38;5;124m\"\u001b[39m\n\u001b[0;32m     41\u001b[0m             \u001b[38;5;124m\"\u001b[39m\u001b[38;5;124m Any packages that depend on \u001b[39m\u001b[38;5;124m'\u001b[39m\u001b[38;5;124mqiskit-terra\u001b[39m\u001b[38;5;124m'\u001b[39m\u001b[38;5;124m are not compatible with Qiskit 1.0 and\u001b[39m\u001b[38;5;124m\"\u001b[39m\n\u001b[0;32m     42\u001b[0m             \u001b[38;5;124m\"\u001b[39m\u001b[38;5;124m will need to be updated.\u001b[39m\u001b[38;5;124m\"\u001b[39m\n\u001b[0;32m     43\u001b[0m             \u001b[38;5;124m\"\u001b[39m\u001b[38;5;124m Qiskit unfortunately cannot enforce this requirement during environment resolution.\u001b[39m\u001b[38;5;124m\"\u001b[39m\n\u001b[0;32m     44\u001b[0m             \u001b[38;5;124m\"\u001b[39m\u001b[38;5;124m See https://qisk.it/packaging-1-0 for more detail.\u001b[39m\u001b[38;5;124m\"\u001b[39m\n\u001b[0;32m     45\u001b[0m         )\n\u001b[0;32m     47\u001b[0m \u001b[38;5;28;01mimport\u001b[39;00m \u001b[38;5;21;01mqiskit\u001b[39;00m\u001b[38;5;21;01m.\u001b[39;00m\u001b[38;5;21;01m_accelerate\u001b[39;00m\n\u001b[0;32m     50\u001b[0m \u001b[38;5;66;03m# Globally define compiled submodules. The normal import mechanism will not find compiled submodules\u001b[39;00m\n\u001b[0;32m     51\u001b[0m \u001b[38;5;66;03m# in _accelerate because it relies on file paths, but PyO3 generates only one shared library file.\u001b[39;00m\n\u001b[0;32m     52\u001b[0m \u001b[38;5;66;03m# We manually define them on import so people can directly import qiskit._accelerate.* submodules\u001b[39;00m\n\u001b[0;32m     53\u001b[0m \u001b[38;5;66;03m# and not have to rely on attribute access.  No action needed for top-level extension packages.\u001b[39;00m\n",
      "\u001b[1;31mImportError\u001b[0m: Qiskit is installed in an invalid environment that has both Qiskit >=1.0 and an earlier version. You should create a new virtual environment, and ensure that you do not mix dependencies between Qiskit <1.0 and >=1.0. Any packages that depend on 'qiskit-terra' are not compatible with Qiskit 1.0 and will need to be updated. Qiskit unfortunately cannot enforce this requirement during environment resolution. See https://qisk.it/packaging-1-0 for more detail."
     ]
    }
   ],
   "source": [
    "import numpy as np\n",
    "from qiskit import QuantumCircuit\n",
    "from qiskit.quantum_info import Operator, Statevector\n",
    "from qiskit.visualization import plot_histogram"
   ]
  },
  {
   "cell_type": "markdown",
   "metadata": {},
   "source": [
    "## Oracle\n",
    "\n",
    "Implement first the oracle which satisfies  \n",
    "$\\mathcal O |x\\rangle|q\\rangle = |x\\rangle|f(x) \\oplus q\\rangle$ ,  \n",
    "where $|x\\rangle$ is the 2 qubit register holds the search space and $|q\\rangle$ is the oracle work space. The function $f(x)$ marks the element we are searching for, let's call this $x_0 \\in \\{0, 1, 2, 3\\}$. Then $f(x)=1$ if $x=x_0$ and $f(x)=0$ otherwise."
   ]
  },
  {
   "cell_type": "markdown",
   "metadata": {},
   "source": [
    "<span style=\"color:red\">Implement the function ``oracle`` which outputs a quantum circuit for the oracle.</span>  \n",
    "Hint: you might find the doubly controlled not gate (QuantumCircuit.ccx()) useful."
   ]
  },
  {
   "cell_type": "code",
   "execution_count": null,
   "metadata": {},
   "outputs": [
    {
     "name": "stdout",
     "output_type": "stream",
     "text": [
      "\u001b[0;31mSignature:\u001b[0m\n",
      "\u001b[0mQuantumCircuit\u001b[0m\u001b[0;34m.\u001b[0m\u001b[0mccx\u001b[0m\u001b[0;34m(\u001b[0m\u001b[0;34m\u001b[0m\n",
      "\u001b[0;34m\u001b[0m    \u001b[0mself\u001b[0m\u001b[0;34m,\u001b[0m\u001b[0;34m\u001b[0m\n",
      "\u001b[0;34m\u001b[0m    \u001b[0mcontrol_qubit1\u001b[0m\u001b[0;34m:\u001b[0m \u001b[0;34m'QubitSpecifier'\u001b[0m\u001b[0;34m,\u001b[0m\u001b[0;34m\u001b[0m\n",
      "\u001b[0;34m\u001b[0m    \u001b[0mcontrol_qubit2\u001b[0m\u001b[0;34m:\u001b[0m \u001b[0;34m'QubitSpecifier'\u001b[0m\u001b[0;34m,\u001b[0m\u001b[0;34m\u001b[0m\n",
      "\u001b[0;34m\u001b[0m    \u001b[0mtarget_qubit\u001b[0m\u001b[0;34m:\u001b[0m \u001b[0;34m'QubitSpecifier'\u001b[0m\u001b[0;34m,\u001b[0m\u001b[0;34m\u001b[0m\n",
      "\u001b[0;34m\u001b[0m    \u001b[0mctrl_state\u001b[0m\u001b[0;34m:\u001b[0m \u001b[0;34m'str | int | None'\u001b[0m \u001b[0;34m=\u001b[0m \u001b[0;32mNone\u001b[0m\u001b[0;34m,\u001b[0m\u001b[0;34m\u001b[0m\n",
      "\u001b[0;34m\u001b[0m\u001b[0;34m)\u001b[0m \u001b[0;34m->\u001b[0m \u001b[0;34m'InstructionSet'\u001b[0m\u001b[0;34m\u001b[0m\u001b[0;34m\u001b[0m\u001b[0m\n",
      "\u001b[0;31mDocstring:\u001b[0m\n",
      "Apply :class:`~qiskit.circuit.library.CCXGate`.\n",
      "\n",
      "For the full matrix form of this gate, see the underlying gate documentation.\n",
      "\n",
      "Args:\n",
      "    control_qubit1: The qubit(s) used as the first control.\n",
      "    control_qubit2: The qubit(s) used as the second control.\n",
      "    target_qubit: The qubit(s) targeted by the gate.\n",
      "    ctrl_state:\n",
      "        The control state in decimal, or as a bitstring (e.g. '1').  Defaults to controlling\n",
      "        on the '1' state.\n",
      "\n",
      "Returns:\n",
      "    A handle to the instructions created.\n",
      "\u001b[0;31mFile:\u001b[0m      ~/.local/lib/python3.10/site-packages/qiskit/circuit/quantumcircuit.py\n",
      "\u001b[0;31mType:\u001b[0m      function"
     ]
    }
   ],
   "source": [
    "?QuantumCircuit.ccx"
   ]
  },
  {
   "cell_type": "code",
   "execution_count": null,
   "metadata": {},
   "outputs": [],
   "source": [
    "\"\"\"\n",
    "This function gives a circuit for an oracle which marks x_0.\n",
    "\n",
    "Args:\n",
    "    x_0: The number we search for and will be marked.\n",
    "         Integer in range 0 <= x_0 < 4\n",
    "\n",
    "Returns:\n",
    "    QuantumCircuit on 3 qubits (2 for search register, 1 for oracle workspace)\n",
    "    which implements the oracle.\n",
    "\"\"\"\n",
    "\n",
    "def oracle(x_0):\n",
    "    circ = QuantumCircuit(3, name='Oracle')\n",
    "    # Fill your gates here\n",
    "    for i in range(2):\n",
    "        match x_0:\n",
    "            case 0:\n",
    "                circ.x([0, 1])\n",
    "            case 1:\n",
    "                circ.x(0)\n",
    "            case 2:\n",
    "                circ.x(1)\n",
    "            case 3:\n",
    "                pass\n",
    "        if i == 0: \n",
    "            circ.ccx(0, 1, 2)\n",
    "\n",
    "            #circ.cz()\n",
    "            #circ.z(2)\n",
    "            #circ.ccx(0, 1, 2)\n",
    "    # Finally return the oracle circuit\n",
    "    return circ"
   ]
  },
  {
   "cell_type": "markdown",
   "metadata": {},
   "source": [
    "You can test whether your oracle works like this:"
   ]
  },
  {
   "cell_type": "code",
   "execution_count": null,
   "metadata": {},
   "outputs": [
    {
     "data": {
      "image/png": "[encoded data removed]",
      "text/plain": [
       "<Figure size 203.885x284.278 with 1 Axes>"
      ]
     },
     "metadata": {},
     "output_type": "display_data"
    },
    {
     "name": "stdout",
     "output_type": "stream",
     "text": [
      "Input |0>  ->  Output {'000': (1+0j)}\n",
      "Input |1>  ->  Output {'010': (1+0j)}\n",
      "Input |2>  ->  Output {'001': (1+0j)}\n",
      "Input |3>  ->  Output {'111': (1+0j)}\n"
     ]
    }
   ],
   "source": [
    "O = oracle(3)  # Test with any number\n",
    "display(O.draw('mpl'))\n",
    "\n",
    "# generate 3 qubit states initialized to |x>|0>\n",
    "states = [Statevector.from_int(i, 2**3) for i in range(4)]\n",
    "# we swap these to get the correct order when reading the Qiskit register (right to left)\n",
    "states[1], states[2] = states[2], states[1]\n",
    "\n",
    "for x in range(4):\n",
    "    output_state = states[x].evolve(O) # Apply the oracle\n",
    "    print(f'Input |{x}>  ->  Output {output_state.to_dict(3)}')"
   ]
  },
  {
   "cell_type": "markdown",
   "metadata": {},
   "source": [
    "Does this look correct? Remember that Qiskit lists qubits from right to left, so for example '110' means that the data register is in state $|01\\rangle$ and the workspace register is in state $|1\\rangle$."
   ]
  },
  {
   "cell_type": "markdown",
   "metadata": {},
   "source": [
    "## Phase flip\n",
    "\n",
    "The phase flip $\\mathcal P$ acts only on the data register and satisfies  \n",
    "$\\mathcal P |0\\rangle|q\\rangle = |0\\rangle|q\\rangle$  \n",
    "$\\mathcal P |x\\rangle|q\\rangle = -|x\\rangle|q\\rangle$ if $x>0$."
   ]
  },
  {
   "cell_type": "markdown",
   "metadata": {},
   "source": [
    "<span style=\"color:red\">Implement the function ``phase_flip`` which outputs a quantum circuit for the phase flip.</span>"
   ]
  },
  {
   "cell_type": "code",
   "execution_count": null,
   "metadata": {},
   "outputs": [],
   "source": [
    "\"\"\"\n",
    "This function gives a circuit which flips phase only if the data register is not |00>.\n",
    "\n",
    "Returns:\n",
    "    QuantumCircuit on 3 qubits (2 for search register, 1 for oracle workspace)\n",
    "    which implements the phase flip.\n",
    "\"\"\"\n",
    "def phase_flip():\n",
    "    circ = QuantumCircuit(3, name='Phase')\n",
    "    # Fill your gates here\n",
    "    #circ.z([0, 1])\n",
    "    #circ.cz(0, 1)\n",
    "    circ.x([0, 1])\n",
    "    circ.ccx(0, 1, 2)\n",
    "    circ.x([0, 1])\n",
    "   # circ.z([0, 1])\n",
    "    #circ.ccx(0, 1, 2)\n",
    "    #circ.cz(2, 1)\n",
    "    #circ.ccx(0, 1, 2)\n",
    "    # Finally return the phase flip circuit\n",
    "    return circ"
   ]
  },
  {
   "cell_type": "code",
   "execution_count": null,
   "metadata": {},
   "outputs": [
    {
     "data": {
      "image/png": "[encoded data removed]",
      "text/plain": [
       "<Figure size 371.107x284.278 with 1 Axes>"
      ]
     },
     "metadata": {},
     "output_type": "display_data"
    },
    {
     "name": "stdout",
     "output_type": "stream",
     "text": [
      "Input |0>  ->  Output {'100': (1+0j)}\n",
      "Input |1>  ->  Output {'010': (1+0j)}\n",
      "Input |2>  ->  Output {'001': (1+0j)}\n",
      "Input |3>  ->  Output {'011': (1+0j)}\n"
     ]
    }
   ],
   "source": [
    "P = phase_flip()\n",
    "display(P.draw('mpl'))\n",
    "for x in range(4):\n",
    "    output_state = states[x].evolve(P)          # Apply the phase flip\n",
    "    print(f'Input |{x}>  ->  Output {output_state.to_dict(3)}')"
   ]
  },
  {
   "cell_type": "markdown",
   "metadata": {},
   "source": [
    "## Grover operator\n",
    "\n",
    "Now that we have implemented the oracle and the phase flip, we can use them to build the complete Grover operator."
   ]
  },
  {
   "cell_type": "code",
   "execution_count": null,
   "metadata": {},
   "outputs": [
    {
     "data": {
      "image/png": "[encoded data removed]",
      "text/plain": [
       "<Figure size 789.163x284.278 with 1 Axes>"
      ]
     },
     "execution_count": 304,
     "metadata": {},
     "output_type": "execute_result"
    }
   ],
   "source": [
    "G = oracle(1)      # This chooses which element we search for\n",
    "G.h([0, 1])\n",
    "G = G.compose(phase_flip())\n",
    "G.h([0, 1])\n",
    "G.draw('mpl')"
   ]
  },
  {
   "cell_type": "markdown",
   "metadata": {},
   "source": [
    "## Quantum search\n",
    "\n",
    "Now the final step is to figure out how many times we need to apply the Grover operator in order to get the right answer."
   ]
  },
  {
   "cell_type": "markdown",
   "metadata": {},
   "source": [
    "<span style=\"color:red\">Calculate how many times $R$ the Grover iteration has to be applied and fill it in the cell below.</span>"
   ]
  },
  {
   "cell_type": "code",
   "execution_count": null,
   "metadata": {},
   "outputs": [
    {
     "data": {
      "image/png": "[encoded data removed]",
      "text/plain": [
       "<Figure size 1541.66x284.278 with 1 Axes>"
      ]
     },
     "execution_count": 309,
     "metadata": {},
     "output_type": "execute_result"
    }
   ],
   "source": [
    "import math\n",
    "num_solutions = 1\n",
    "num_qubits = G.num_qubits - 1\n",
    "R = math.floor(math.pi / (4 * math.asin(math.sqrt(num_solutions / 2**num_qubits)))) # Add here how many times to repeat the Grover operator\n",
    "# This builds the completed circuit\n",
    "R=2\n",
    "circ = QuantumCircuit(3)\n",
    "circ.h([0, 1])\n",
    "circ.x(2)\n",
    "circ.h(2)\n",
    "for _ in range(R):\n",
    "    circ = circ.compose(G)\n",
    "circ.draw('mpl')"
   ]
  },
  {
   "cell_type": "markdown",
   "metadata": {},
   "source": [
    "## Run the circuit\n",
    "\n",
    "Now we test that the Grover search works."
   ]
  },
  {
   "cell_type": "code",
   "execution_count": null,
   "metadata": {},
   "outputs": [
    {
     "data": {
      "image/png": "[encoded data removed]",
      "text/plain": [
       "<Figure size 700x500 with 1 Axes>"
      ]
     },
     "execution_count": 310,
     "metadata": {},
     "output_type": "execute_result"
    }
   ],
   "source": [
    "state = Statevector.from_int(0, 2**3)\n",
    "state = state.evolve(circ)\n",
    "\n",
    "# Measure the first two qubits:\n",
    "counts = state.sample_counts(1024, qargs=[0,1])\n",
    "plot_histogram(counts)"
   ]
  },
  {
   "cell_type": "markdown",
   "metadata": {},
   "source": [
    "You should see that measurement matches your $x_0$."
   ]
  }
 ],
 "metadata": {
  "kernelspec": {
   "display_name": "Python 3",
   "language": "python",
   "name": "python3"
  },
  "language_info": {
   "codemirror_mode": {
    "name": "ipython",
    "version": 3
   },
   "file_extension": ".py",
   "mimetype": "text/x-python",
   "name": "python",
   "nbconvert_exporter": "python",
   "pygments_lexer": "ipython3",
   "version": "3.10.10"
  }
 },
 "nbformat": 4,
 "nbformat_minor": 4
}
